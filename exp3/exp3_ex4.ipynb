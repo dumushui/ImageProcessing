{
 "cells": [
  {
   "cell_type": "markdown",
   "metadata": {},
   "source": [
    "4、\t利用imnoise3对图像I进行加入参数为C=[0 32; 0 64; 16 16; 32 0; 64 0; -16 16]的周期噪声，得到图像J。对含噪图像J进行陷波滤波图像复原。要求列出1中各个步骤的运行代码。显示I，J，差分图像I-I'。显示I、J、以及噪声的频谱。(注意噪声的幅度可用参数A控制)"
   ]
  },
  {
   "cell_type": "code",
   "execution_count": null,
   "metadata": {},
   "outputs": [],
   "source": []
  }
 ],
 "metadata": {
  "kernelspec": {
   "display_name": "Python 3",
   "language": "python",
   "name": "python3"
  },
  "language_info": {
   "codemirror_mode": {
    "name": "ipython",
    "version": 3
   },
   "file_extension": ".py",
   "mimetype": "text/x-python",
   "name": "python",
   "nbconvert_exporter": "python",
   "pygments_lexer": "ipython3",
   "version": "3.6.4"
  }
 },
 "nbformat": 4,
 "nbformat_minor": 2
}
